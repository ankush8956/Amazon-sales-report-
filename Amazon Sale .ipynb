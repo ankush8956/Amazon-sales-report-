{
 "cells": [
  {
   "cell_type": "code",
   "execution_count": 1,
   "id": "ed84d96a-dc67-4a56-8d10-0ddcc1b32e88",
   "metadata": {},
   "outputs": [],
   "source": [
    "import pandas as pd\n",
    "import numpy as np\n",
    "import seaborn as sns \n",
    "import matplotlib.pyplot as plt "
   ]
  },
  {
   "cell_type": "code",
   "execution_count": 2,
   "id": "a9d45604-f115-41d6-b289-bee746193ef1",
   "metadata": {},
   "outputs": [],
   "source": [
    "df = pd.read_csv(\"Amazon Sale Report.csv\")"
   ]
  },
  {
   "cell_type": "code",
   "execution_count": 3,
   "id": "d79097cd-a853-46ea-b791-551fdf6d0add",
   "metadata": {},
   "outputs": [
    {
     "data": {
      "text/html": [
       "<div>\n",
       "<style scoped>\n",
       "    .dataframe tbody tr th:only-of-type {\n",
       "        vertical-align: middle;\n",
       "    }\n",
       "\n",
       "    .dataframe tbody tr th {\n",
       "        vertical-align: top;\n",
       "    }\n",
       "\n",
       "    .dataframe thead th {\n",
       "        text-align: right;\n",
       "    }\n",
       "</style>\n",
       "<table border=\"1\" class=\"dataframe\">\n",
       "  <thead>\n",
       "    <tr style=\"text-align: right;\">\n",
       "      <th></th>\n",
       "      <th>index</th>\n",
       "      <th>Order ID</th>\n",
       "      <th>Date</th>\n",
       "      <th>Status</th>\n",
       "      <th>Fulfilment</th>\n",
       "      <th>Sales Channel</th>\n",
       "      <th>ship-service-level</th>\n",
       "      <th>Category</th>\n",
       "      <th>Size</th>\n",
       "      <th>Courier Status</th>\n",
       "      <th>...</th>\n",
       "      <th>currency</th>\n",
       "      <th>Amount</th>\n",
       "      <th>ship-city</th>\n",
       "      <th>ship-state</th>\n",
       "      <th>ship-postal-code</th>\n",
       "      <th>ship-country</th>\n",
       "      <th>B2B</th>\n",
       "      <th>fulfilled-by</th>\n",
       "      <th>New</th>\n",
       "      <th>PendingS</th>\n",
       "    </tr>\n",
       "  </thead>\n",
       "  <tbody>\n",
       "    <tr>\n",
       "      <th>0</th>\n",
       "      <td>0</td>\n",
       "      <td>405-8078784-5731545</td>\n",
       "      <td>04-30-22</td>\n",
       "      <td>Cancelled</td>\n",
       "      <td>Merchant</td>\n",
       "      <td>Amazon.in</td>\n",
       "      <td>Standard</td>\n",
       "      <td>T-shirt</td>\n",
       "      <td>S</td>\n",
       "      <td>On the Way</td>\n",
       "      <td>...</td>\n",
       "      <td>INR</td>\n",
       "      <td>647.62</td>\n",
       "      <td>MUMBAI</td>\n",
       "      <td>MAHARASHTRA</td>\n",
       "      <td>400081.0</td>\n",
       "      <td>IN</td>\n",
       "      <td>False</td>\n",
       "      <td>Easy Ship</td>\n",
       "      <td>NaN</td>\n",
       "      <td>NaN</td>\n",
       "    </tr>\n",
       "    <tr>\n",
       "      <th>1</th>\n",
       "      <td>1</td>\n",
       "      <td>171-9198151-1101146</td>\n",
       "      <td>04-30-22</td>\n",
       "      <td>Shipped - Delivered to Buyer</td>\n",
       "      <td>Merchant</td>\n",
       "      <td>Amazon.in</td>\n",
       "      <td>Standard</td>\n",
       "      <td>Shirt</td>\n",
       "      <td>3XL</td>\n",
       "      <td>Shipped</td>\n",
       "      <td>...</td>\n",
       "      <td>INR</td>\n",
       "      <td>406.00</td>\n",
       "      <td>BENGALURU</td>\n",
       "      <td>KARNATAKA</td>\n",
       "      <td>560085.0</td>\n",
       "      <td>IN</td>\n",
       "      <td>False</td>\n",
       "      <td>Easy Ship</td>\n",
       "      <td>NaN</td>\n",
       "      <td>NaN</td>\n",
       "    </tr>\n",
       "    <tr>\n",
       "      <th>2</th>\n",
       "      <td>2</td>\n",
       "      <td>404-0687676-7273146</td>\n",
       "      <td>04-30-22</td>\n",
       "      <td>Shipped</td>\n",
       "      <td>Amazon</td>\n",
       "      <td>Amazon.in</td>\n",
       "      <td>Expedited</td>\n",
       "      <td>Shirt</td>\n",
       "      <td>XL</td>\n",
       "      <td>Shipped</td>\n",
       "      <td>...</td>\n",
       "      <td>INR</td>\n",
       "      <td>329.00</td>\n",
       "      <td>NAVI MUMBAI</td>\n",
       "      <td>MAHARASHTRA</td>\n",
       "      <td>410210.0</td>\n",
       "      <td>IN</td>\n",
       "      <td>True</td>\n",
       "      <td>NaN</td>\n",
       "      <td>NaN</td>\n",
       "      <td>NaN</td>\n",
       "    </tr>\n",
       "    <tr>\n",
       "      <th>3</th>\n",
       "      <td>3</td>\n",
       "      <td>403-9615377-8133951</td>\n",
       "      <td>04-30-22</td>\n",
       "      <td>Cancelled</td>\n",
       "      <td>Merchant</td>\n",
       "      <td>Amazon.in</td>\n",
       "      <td>Standard</td>\n",
       "      <td>Blazzer</td>\n",
       "      <td>L</td>\n",
       "      <td>On the Way</td>\n",
       "      <td>...</td>\n",
       "      <td>INR</td>\n",
       "      <td>753.33</td>\n",
       "      <td>PUDUCHERRY</td>\n",
       "      <td>PUDUCHERRY</td>\n",
       "      <td>605008.0</td>\n",
       "      <td>IN</td>\n",
       "      <td>False</td>\n",
       "      <td>Easy Ship</td>\n",
       "      <td>NaN</td>\n",
       "      <td>NaN</td>\n",
       "    </tr>\n",
       "    <tr>\n",
       "      <th>4</th>\n",
       "      <td>4</td>\n",
       "      <td>407-1069790-7240320</td>\n",
       "      <td>04-30-22</td>\n",
       "      <td>Shipped</td>\n",
       "      <td>Amazon</td>\n",
       "      <td>Amazon.in</td>\n",
       "      <td>Expedited</td>\n",
       "      <td>Trousers</td>\n",
       "      <td>3XL</td>\n",
       "      <td>Shipped</td>\n",
       "      <td>...</td>\n",
       "      <td>INR</td>\n",
       "      <td>574.00</td>\n",
       "      <td>CHENNAI</td>\n",
       "      <td>TAMIL NADU</td>\n",
       "      <td>600073.0</td>\n",
       "      <td>IN</td>\n",
       "      <td>False</td>\n",
       "      <td>NaN</td>\n",
       "      <td>NaN</td>\n",
       "      <td>NaN</td>\n",
       "    </tr>\n",
       "  </tbody>\n",
       "</table>\n",
       "<p>5 rows × 21 columns</p>\n",
       "</div>"
      ],
      "text/plain": [
       "   index             Order ID      Date                        Status  \\\n",
       "0      0  405-8078784-5731545  04-30-22                     Cancelled   \n",
       "1      1  171-9198151-1101146  04-30-22  Shipped - Delivered to Buyer   \n",
       "2      2  404-0687676-7273146  04-30-22                       Shipped   \n",
       "3      3  403-9615377-8133951  04-30-22                     Cancelled   \n",
       "4      4  407-1069790-7240320  04-30-22                       Shipped   \n",
       "\n",
       "  Fulfilment Sales Channel ship-service-level  Category Size Courier Status  \\\n",
       "0   Merchant     Amazon.in           Standard   T-shirt    S     On the Way   \n",
       "1   Merchant     Amazon.in           Standard     Shirt  3XL        Shipped   \n",
       "2     Amazon     Amazon.in          Expedited     Shirt   XL        Shipped   \n",
       "3   Merchant     Amazon.in           Standard   Blazzer    L     On the Way   \n",
       "4     Amazon     Amazon.in          Expedited  Trousers  3XL        Shipped   \n",
       "\n",
       "   ...  currency  Amount    ship-city   ship-state ship-postal-code  \\\n",
       "0  ...       INR  647.62       MUMBAI  MAHARASHTRA         400081.0   \n",
       "1  ...       INR  406.00    BENGALURU    KARNATAKA         560085.0   \n",
       "2  ...       INR  329.00  NAVI MUMBAI  MAHARASHTRA         410210.0   \n",
       "3  ...       INR  753.33   PUDUCHERRY   PUDUCHERRY         605008.0   \n",
       "4  ...       INR  574.00      CHENNAI   TAMIL NADU         600073.0   \n",
       "\n",
       "   ship-country    B2B  fulfilled-by New  PendingS  \n",
       "0            IN  False     Easy Ship NaN       NaN  \n",
       "1            IN  False     Easy Ship NaN       NaN  \n",
       "2            IN   True           NaN NaN       NaN  \n",
       "3            IN  False     Easy Ship NaN       NaN  \n",
       "4            IN  False           NaN NaN       NaN  \n",
       "\n",
       "[5 rows x 21 columns]"
      ]
     },
     "execution_count": 3,
     "metadata": {},
     "output_type": "execute_result"
    }
   ],
   "source": [
    "df.head()"
   ]
  },
  {
   "cell_type": "code",
   "execution_count": 4,
   "id": "226ad385-de4e-4426-b508-51097937ac38",
   "metadata": {},
   "outputs": [
    {
     "name": "stdout",
     "output_type": "stream",
     "text": [
      "<class 'pandas.core.frame.DataFrame'>\n",
      "RangeIndex: 128976 entries, 0 to 128975\n",
      "Data columns (total 21 columns):\n",
      " #   Column              Non-Null Count   Dtype  \n",
      "---  ------              --------------   -----  \n",
      " 0   index               128976 non-null  int64  \n",
      " 1   Order ID            128976 non-null  object \n",
      " 2   Date                128976 non-null  object \n",
      " 3   Status              128976 non-null  object \n",
      " 4   Fulfilment          128976 non-null  object \n",
      " 5   Sales Channel       128976 non-null  object \n",
      " 6   ship-service-level  128976 non-null  object \n",
      " 7   Category            128976 non-null  object \n",
      " 8   Size                128976 non-null  object \n",
      " 9   Courier Status      128976 non-null  object \n",
      " 10  Qty                 128976 non-null  int64  \n",
      " 11  currency            121176 non-null  object \n",
      " 12  Amount              121176 non-null  float64\n",
      " 13  ship-city           128941 non-null  object \n",
      " 14  ship-state          128941 non-null  object \n",
      " 15  ship-postal-code    128941 non-null  float64\n",
      " 16  ship-country        128941 non-null  object \n",
      " 17  B2B                 128976 non-null  bool   \n",
      " 18  fulfilled-by        39263 non-null   object \n",
      " 19  New                 0 non-null       float64\n",
      " 20  PendingS            0 non-null       float64\n",
      "dtypes: bool(1), float64(4), int64(2), object(14)\n",
      "memory usage: 19.8+ MB\n"
     ]
    }
   ],
   "source": [
    "df.info()"
   ]
  },
  {
   "cell_type": "code",
   "execution_count": 5,
   "id": "ac00c94c-f7bc-4220-b6e9-a393e06a053c",
   "metadata": {},
   "outputs": [
    {
     "data": {
      "text/plain": [
       "index                      0\n",
       "Order ID                   0\n",
       "Date                       0\n",
       "Status                     0\n",
       "Fulfilment                 0\n",
       "Sales Channel              0\n",
       "ship-service-level         0\n",
       "Category                   0\n",
       "Size                       0\n",
       "Courier Status             0\n",
       "Qty                        0\n",
       "currency                7800\n",
       "Amount                  7800\n",
       "ship-city                 35\n",
       "ship-state                35\n",
       "ship-postal-code          35\n",
       "ship-country              35\n",
       "B2B                        0\n",
       "fulfilled-by           89713\n",
       "New                   128976\n",
       "PendingS              128976\n",
       "dtype: int64"
      ]
     },
     "execution_count": 5,
     "metadata": {},
     "output_type": "execute_result"
    }
   ],
   "source": [
    "df.isnull().sum()"
   ]
  },
  {
   "cell_type": "code",
   "execution_count": 6,
   "id": "01e9a6da-3e35-4503-aec3-30c7c91a17ce",
   "metadata": {},
   "outputs": [],
   "source": [
    "# Set index to index column\n",
    "df = df.set_index('index')"
   ]
  },
  {
   "cell_type": "code",
   "execution_count": 7,
   "id": "6933b45b-6bef-4b6d-b0ba-99da5b0e5943",
   "metadata": {},
   "outputs": [],
   "source": [
    "# Remove the last two columns \n",
    "df.drop(columns=\"New\",inplace=True)\n",
    "df.drop(columns=\"PendingS\",inplace=True)"
   ]
  },
  {
   "cell_type": "code",
   "execution_count": 8,
   "id": "b6112540-fc3a-4050-bba6-4d50a6ffbb67",
   "metadata": {},
   "outputs": [
    {
     "data": {
      "text/plain": [
       "7800"
      ]
     },
     "execution_count": 8,
     "metadata": {},
     "output_type": "execute_result"
    }
   ],
   "source": [
    "# Firstly clean the Dataset\n",
    "df['Amount'].isnull().sum()"
   ]
  },
  {
   "cell_type": "code",
   "execution_count": 9,
   "id": "e1fb7cac-30e4-4c43-9b22-ffecec3a3472",
   "metadata": {},
   "outputs": [],
   "source": [
    "\n",
    "# Fill null values in 'Amount' column with 0 where 'Quantity' is 0\n",
    "df.loc[(df['Courier Status'] == 'Cancelled') & (df['Qty'] == 0), 'Amount'] = 0\n"
   ]
  },
  {
   "cell_type": "code",
   "execution_count": 10,
   "id": "8e85d9b5-30a6-44aa-9943-6de218702cc6",
   "metadata": {},
   "outputs": [],
   "source": [
    "df['currency'].fillna('INR',inplace=True)"
   ]
  },
  {
   "cell_type": "code",
   "execution_count": 11,
   "id": "a2099bec-e62a-4dbf-ac34-72de5c702953",
   "metadata": {},
   "outputs": [
    {
     "data": {
      "text/plain": [
       "Order ID                  0\n",
       "Date                      0\n",
       "Status                    0\n",
       "Fulfilment                0\n",
       "Sales Channel             0\n",
       "ship-service-level        0\n",
       "Category                  0\n",
       "Size                      0\n",
       "Courier Status            0\n",
       "Qty                       0\n",
       "currency                  0\n",
       "Amount                 1860\n",
       "ship-city                35\n",
       "ship-state               35\n",
       "ship-postal-code         35\n",
       "ship-country             35\n",
       "B2B                       0\n",
       "fulfilled-by          89713\n",
       "dtype: int64"
      ]
     },
     "execution_count": 11,
     "metadata": {},
     "output_type": "execute_result"
    }
   ],
   "source": [
    "df.isnull().sum()"
   ]
  },
  {
   "cell_type": "markdown",
   "id": "4f40c091-fe60-4137-a017-8f50552a276c",
   "metadata": {},
   "source": [
    "# 1. Sales Overview:\n",
    "Understand the overall sales performance, trends, and patterns over time"
   ]
  },
  {
   "cell_type": "markdown",
   "id": "41ae599f-f30f-4a31-a532-d8ba00c0f1f3",
   "metadata": {},
   "source": [
    "##  Sales Data Summarization\n"
   ]
  },
  {
   "cell_type": "code",
   "execution_count": 12,
   "id": "4ba96bc6-bf6d-4f65-868e-2bec751d363c",
   "metadata": {},
   "outputs": [],
   "source": [
    "Total_amount = df['Amount'].sum()\n",
    "Total_order = df['Order ID'].nunique()"
   ]
  },
  {
   "cell_type": "code",
   "execution_count": 13,
   "id": "fbb4e9f4-e0d8-4a3d-ac40-1edc34cc4ea2",
   "metadata": {},
   "outputs": [
    {
     "name": "stdout",
     "output_type": "stream",
     "text": [
      "The Total amount of Amazon sales : 78590170.24999997\n",
      "The Total Orders of Amazon  : 120229\n"
     ]
    }
   ],
   "source": [
    "print(f\"The Total amount of Amazon sales : {Total_amount}\")\n",
    "print(f\"The Total Orders of Amazon  : {Total_order}\")"
   ]
  },
  {
   "cell_type": "markdown",
   "id": "4745a335-24b6-4a29-af1b-0b229ea26aee",
   "metadata": {},
   "source": [
    "### Average Order Value (AOV)"
   ]
  },
  {
   "cell_type": "code",
   "execution_count": 14,
   "id": "ee3388e8-1951-4022-955d-fb64818e76a2",
   "metadata": {},
   "outputs": [
    {
     "name": "stdout",
     "output_type": "stream",
     "text": [
      "The Average order value :  653.6706638997244\n"
     ]
    }
   ],
   "source": [
    "AOV = Total_amount/Total_order\n",
    "\n",
    "print(\"The Average order value : \",AOV )"
   ]
  },
  {
   "cell_type": "markdown",
   "id": "1947c2db-9387-4314-8681-bd2e43df4e70",
   "metadata": {},
   "source": [
    "##  Time-based Sales Analysis (Monthly/Quarterly Trends)"
   ]
  },
  {
   "cell_type": "code",
   "execution_count": 15,
   "id": "66717ca0-ec18-41c5-998e-7d2db59ef96e",
   "metadata": {},
   "outputs": [
    {
     "data": {
      "text/plain": [
       "array(['04-30-22', '04-29-22', '04-28-22', '04-27-22', '04-26-22',\n",
       "       '04-25-22', '04-24-22', '04-23-22', '04-22-22', '04-21-22',\n",
       "       '04-20-22', '04-19-22', '04-18-22', '04-17-22', '04-16-22',\n",
       "       '04-15-22', '04-14-22', '04-13-22', '04-12-2022', '04-11-2022',\n",
       "       '04-10-2022', '04-09-2022', '04-08-2022', '04-07-2022',\n",
       "       '04-06-2022', '04-05-2022', '04-04-2022', '04-03-2022',\n",
       "       '04-02-2022', '04-01-2022', '03-31-22', '05-31-22', '05-30-22',\n",
       "       '05-29-22', '05-28-22', '05-27-22', '05-26-22', '05-25-22',\n",
       "       '05-24-22', '05-23-22', '05-22-22', '05-21-22', '05-20-22',\n",
       "       '05-19-22', '05-18-22', '05-17-22', '05-16-22', '05-15-22',\n",
       "       '05-14-22', '05-13-22', '05-12-2022', '05-11-2022', '05-10-2022',\n",
       "       '05-09-2022', '05-08-2022', '05-07-2022', '05-06-2022',\n",
       "       '05-05-2022', '05-04-2022', '05-03-2022', '05-02-2022',\n",
       "       '05-01-2022', '06-29-22', '06-28-22', '06-27-22', '06-26-22',\n",
       "       '06-25-22', '06-24-22', '06-23-22', '06-22-22', '06-21-22',\n",
       "       '06-20-22', '06-19-22', '06-18-22', '06-17-22', '06-16-22',\n",
       "       '06-15-22', '06-14-22', '06-13-22', '06-12-2022', '06-11-2022',\n",
       "       '06-10-2022', '06-09-2022', '06-08-2022', '06-07-2022',\n",
       "       '06-06-2022', '06-05-2022', '06-04-2022', '06-03-2022',\n",
       "       '06-02-2022', '06-01-2022'], dtype=object)"
      ]
     },
     "execution_count": 15,
     "metadata": {},
     "output_type": "execute_result"
    }
   ],
   "source": [
    "# unique Date \n",
    "df['Date'].unique()"
   ]
  },
  {
   "cell_type": "code",
   "execution_count": 16,
   "id": "2f10223f-067d-4c28-bc9e-ec7e51a7aa13",
   "metadata": {},
   "outputs": [],
   "source": [
    "# Amazon dataset has (1 April 2022) to (30 july 2022)\n",
    "# It has daywise sales data \n"
   ]
  },
  {
   "cell_type": "code",
   "execution_count": 17,
   "id": "d1d72ab3-d20a-4b91-b78b-46ecc5b094f4",
   "metadata": {},
   "outputs": [
    {
     "name": "stderr",
     "output_type": "stream",
     "text": [
      "C:\\Users\\ANURAG\\AppData\\Local\\Temp\\ipykernel_8312\\460753171.py:3: UserWarning: Could not infer format, so each element will be parsed individually, falling back to `dateutil`. To ensure parsing is consistent and as-expected, please specify a format.\n",
      "  df['Date'] = pd.to_datetime(df['Date'])\n"
     ]
    }
   ],
   "source": [
    "# conveting the DAte columns datatype into datetime\n",
    "\n",
    "df['Date'] = pd.to_datetime(df['Date'])"
   ]
  },
  {
   "cell_type": "code",
   "execution_count": 18,
   "id": "74f01429-32fd-43d7-af37-3c4869c87cfe",
   "metadata": {},
   "outputs": [
    {
     "name": "stdout",
     "output_type": "stream",
     "text": [
      "<class 'pandas.core.frame.DataFrame'>\n",
      "Index: 128976 entries, 0 to 128974\n",
      "Data columns (total 18 columns):\n",
      " #   Column              Non-Null Count   Dtype         \n",
      "---  ------              --------------   -----         \n",
      " 0   Order ID            128976 non-null  object        \n",
      " 1   Date                128976 non-null  datetime64[ns]\n",
      " 2   Status              128976 non-null  object        \n",
      " 3   Fulfilment          128976 non-null  object        \n",
      " 4   Sales Channel       128976 non-null  object        \n",
      " 5   ship-service-level  128976 non-null  object        \n",
      " 6   Category            128976 non-null  object        \n",
      " 7   Size                128976 non-null  object        \n",
      " 8   Courier Status      128976 non-null  object        \n",
      " 9   Qty                 128976 non-null  int64         \n",
      " 10  currency            128976 non-null  object        \n",
      " 11  Amount              127116 non-null  float64       \n",
      " 12  ship-city           128941 non-null  object        \n",
      " 13  ship-state          128941 non-null  object        \n",
      " 14  ship-postal-code    128941 non-null  float64       \n",
      " 15  ship-country        128941 non-null  object        \n",
      " 16  B2B                 128976 non-null  bool          \n",
      " 17  fulfilled-by        39263 non-null   object        \n",
      "dtypes: bool(1), datetime64[ns](1), float64(2), int64(1), object(13)\n",
      "memory usage: 17.8+ MB\n"
     ]
    }
   ],
   "source": [
    "df.info()"
   ]
  },
  {
   "cell_type": "code",
   "execution_count": 19,
   "id": "9652ea4f-7db2-4883-b68e-70fe89ff4903",
   "metadata": {},
   "outputs": [],
   "source": [
    "# Creating new columns that show only the Months \n",
    "df['Months'] = df['Date'].dt.to_period('M')"
   ]
  },
  {
   "cell_type": "code",
   "execution_count": 20,
   "id": "97ea9007-13bc-4e58-835f-f5f487b3c32c",
   "metadata": {},
   "outputs": [],
   "source": [
    "# Group data by Months\n",
    "monthly_sales = df.groupby('Months').agg(Total_sale = (\"Amount\",'sum'),Total_order = ('Order ID','count')).reset_index()"
   ]
  },
  {
   "cell_type": "code",
   "execution_count": 21,
   "id": "eeab395f-82ef-4aa6-8fa2-25568e34b616",
   "metadata": {},
   "outputs": [
    {
     "data": {
      "text/html": [
       "<div>\n",
       "<style scoped>\n",
       "    .dataframe tbody tr th:only-of-type {\n",
       "        vertical-align: middle;\n",
       "    }\n",
       "\n",
       "    .dataframe tbody tr th {\n",
       "        vertical-align: top;\n",
       "    }\n",
       "\n",
       "    .dataframe thead th {\n",
       "        text-align: right;\n",
       "    }\n",
       "</style>\n",
       "<table border=\"1\" class=\"dataframe\">\n",
       "  <thead>\n",
       "    <tr style=\"text-align: right;\">\n",
       "      <th></th>\n",
       "      <th>Months</th>\n",
       "      <th>Total_sale</th>\n",
       "      <th>Total_order</th>\n",
       "    </tr>\n",
       "  </thead>\n",
       "  <tbody>\n",
       "    <tr>\n",
       "      <th>0</th>\n",
       "      <td>2022-03</td>\n",
       "      <td>101683.85</td>\n",
       "      <td>171</td>\n",
       "    </tr>\n",
       "    <tr>\n",
       "      <th>1</th>\n",
       "      <td>2022-04</td>\n",
       "      <td>28836200.27</td>\n",
       "      <td>49068</td>\n",
       "    </tr>\n",
       "    <tr>\n",
       "      <th>2</th>\n",
       "      <td>2022-05</td>\n",
       "      <td>26226476.75</td>\n",
       "      <td>42040</td>\n",
       "    </tr>\n",
       "    <tr>\n",
       "      <th>3</th>\n",
       "      <td>2022-06</td>\n",
       "      <td>23425809.38</td>\n",
       "      <td>37697</td>\n",
       "    </tr>\n",
       "  </tbody>\n",
       "</table>\n",
       "</div>"
      ],
      "text/plain": [
       "    Months   Total_sale  Total_order\n",
       "0  2022-03    101683.85          171\n",
       "1  2022-04  28836200.27        49068\n",
       "2  2022-05  26226476.75        42040\n",
       "3  2022-06  23425809.38        37697"
      ]
     },
     "execution_count": 21,
     "metadata": {},
     "output_type": "execute_result"
    }
   ],
   "source": [
    "monthly_sales"
   ]
  },
  {
   "cell_type": "code",
   "execution_count": 22,
   "id": "4cdfc24c-c696-4a07-9a39-1f58a3b1eafb",
   "metadata": {},
   "outputs": [],
   "source": [
    "# Group data by Date\n",
    "Daily_sales = df.groupby('Date').agg(Total_sale  = (\"Amount\",'sum'),Total_order=(\"Order ID\",'count')).reset_index()"
   ]
  },
  {
   "cell_type": "code",
   "execution_count": 23,
   "id": "1aaa7548-2f84-42b5-b474-1015eb9ceb65",
   "metadata": {},
   "outputs": [
    {
     "data": {
      "text/html": [
       "<div>\n",
       "<style scoped>\n",
       "    .dataframe tbody tr th:only-of-type {\n",
       "        vertical-align: middle;\n",
       "    }\n",
       "\n",
       "    .dataframe tbody tr th {\n",
       "        vertical-align: top;\n",
       "    }\n",
       "\n",
       "    .dataframe thead th {\n",
       "        text-align: right;\n",
       "    }\n",
       "</style>\n",
       "<table border=\"1\" class=\"dataframe\">\n",
       "  <thead>\n",
       "    <tr style=\"text-align: right;\">\n",
       "      <th></th>\n",
       "      <th>Date</th>\n",
       "      <th>Total_sale</th>\n",
       "      <th>Total_order</th>\n",
       "    </tr>\n",
       "  </thead>\n",
       "  <tbody>\n",
       "    <tr>\n",
       "      <th>0</th>\n",
       "      <td>2022-03-31</td>\n",
       "      <td>101683.85</td>\n",
       "      <td>171</td>\n",
       "    </tr>\n",
       "    <tr>\n",
       "      <th>1</th>\n",
       "      <td>2022-04-01</td>\n",
       "      <td>865478.60</td>\n",
       "      <td>1470</td>\n",
       "    </tr>\n",
       "    <tr>\n",
       "      <th>2</th>\n",
       "      <td>2022-04-02</td>\n",
       "      <td>913101.53</td>\n",
       "      <td>1555</td>\n",
       "    </tr>\n",
       "    <tr>\n",
       "      <th>3</th>\n",
       "      <td>2022-04-03</td>\n",
       "      <td>1011763.38</td>\n",
       "      <td>1691</td>\n",
       "    </tr>\n",
       "    <tr>\n",
       "      <th>4</th>\n",
       "      <td>2022-04-04</td>\n",
       "      <td>882059.17</td>\n",
       "      <td>1465</td>\n",
       "    </tr>\n",
       "  </tbody>\n",
       "</table>\n",
       "</div>"
      ],
      "text/plain": [
       "        Date  Total_sale  Total_order\n",
       "0 2022-03-31   101683.85          171\n",
       "1 2022-04-01   865478.60         1470\n",
       "2 2022-04-02   913101.53         1555\n",
       "3 2022-04-03  1011763.38         1691\n",
       "4 2022-04-04   882059.17         1465"
      ]
     },
     "execution_count": 23,
     "metadata": {},
     "output_type": "execute_result"
    }
   ],
   "source": [
    "Daily_sales.head()"
   ]
  },
  {
   "cell_type": "code",
   "execution_count": 24,
   "id": "cfea3556-2a19-4757-8847-35a659da2bb1",
   "metadata": {},
   "outputs": [
    {
     "name": "stdout",
     "output_type": "stream",
     "text": [
      "Which month has Hight sales : \n",
      "Months             2022-04\n",
      "Total_sale     28836200.27\n",
      "Total_order          49068\n",
      "Name: 1, dtype: object\n",
      "-------------------------------------------\n",
      "Which month has lowest sales : \n",
      "Months           2022-03\n",
      "Total_sale     101683.85\n",
      "Total_order          171\n",
      "Name: 0, dtype: object\n",
      "-------------------------------------------\n",
      "Which Day has highest sales : \n",
      "Date           2022-05-04 00:00:00\n",
      "Total_sale              1209364.17\n",
      "Total_order                   2015\n",
      "Name: 34, dtype: object\n",
      "-------------------------------------------\n",
      "Which Day has lowest sales : \n",
      "Date           2022-03-31 00:00:00\n",
      "Total_sale               101683.85\n",
      "Total_order                    171\n",
      "Name: 0, dtype: object\n"
     ]
    }
   ],
   "source": [
    "# As we find the monthly and daily sales and orders we can easly apply different - different function like sum , max , min , mean , etc .\n",
    "max_sale_monthly  = monthly_sales.loc[monthly_sales['Total_sale'].idxmax()]\n",
    "print('Which month has Hight sales : ')\n",
    "print(max_sale_monthly)\n",
    "print(\"-------------------------------------------\")\n",
    "min_sale_monthly  = monthly_sales.loc[monthly_sales['Total_sale'].idxmin()]\n",
    "print('Which month has lowest sales : ')\n",
    "print(min_sale_monthly)\n",
    "print(\"-------------------------------------------\")\n",
    "max_sale_daily  = Daily_sales.loc[Daily_sales['Total_sale'].idxmax()]\n",
    "print('Which Day has highest sales : ')\n",
    "print(max_sale_daily)\n",
    "print(\"-------------------------------------------\")\n",
    "min_sale_daily  = Daily_sales.loc[Daily_sales['Total_sale'].idxmin()]\n",
    "print('Which Day has lowest sales : ')\n",
    "print(min_sale_daily)"
   ]
  },
  {
   "cell_type": "code",
   "execution_count": 25,
   "id": "ea676e59-62de-48df-8ee0-51d7423600b1",
   "metadata": {},
   "outputs": [
    {
     "data": {
      "image/png": "[encoded data removed]",
      "text/plain": [
       "<Figure size 1000x500 with 1 Axes>"
      ]
     },
     "metadata": {},
     "output_type": "display_data"
    }
   ],
   "source": [
    "# Visualization\n",
    "# Plotting the day-wise sales trend\n",
    "plt.figure(figsize=(10,5))\n",
    "plt.plot(Daily_sales['Date'],Daily_sales['Total_sale'], marker='o')\n",
    "plt.title('Day-wise Sales Trend')\n",
    "plt.xlabel('Date')\n",
    "plt.ylabel('Total Sales')\n",
    "plt.xticks(rotation=45)\n",
    "plt.grid(True)\n",
    "plt.show()"
   ]
  },
  {
   "cell_type": "code",
   "execution_count": 26,
   "id": "03e8c913-9abf-4fba-a4ac-07a8f426d0e9",
   "metadata": {},
   "outputs": [
    {
     "data": {
      "image/png": "[encoded data removed]",
      "text/plain": [
       "<Figure size 1000x600 with 1 Axes>"
      ]
     },
     "metadata": {},
     "output_type": "display_data"
    }
   ],
   "source": [
    "# Visualization\n",
    "# Plotting the Month wise sales trend\n",
    "plt.figure(figsize=(10,6))\n",
    "plt.plot(monthly_sales['Months'].astype(str), monthly_sales['Total_sale'], marker='o', color='b', label='Total Sales')\n",
    "plt.title('Month-wise Total Sales', fontsize=16)\n",
    "plt.xlabel('Months',fontsize=12)\n",
    "plt.ylabel('Sales', fontsize=12)\n",
    "plt.grid(True)\n",
    "plt.tight_layout()\n",
    "plt.show()\n"
   ]
  },
  {
   "cell_type": "markdown",
   "id": "34e7f7ff-b0fb-4caf-8050-3f48e9744c3a",
   "metadata": {},
   "source": [
    "## Sales by Product Category"
   ]
  },
  {
   "cell_type": "code",
   "execution_count": 27,
   "id": "056dfbf3-0e02-444b-9f31-2e3146412879",
   "metadata": {},
   "outputs": [],
   "source": [
    "Category_sale = df.groupby('Category').agg(Total_sale = ('Amount','sum'),Total_orders=(\"Order ID\",'count')).reset_index()"
   ]
  },
  {
   "cell_type": "code",
   "execution_count": 28,
   "id": "06cd1555-52f9-4460-9f67-2f54ad1d72f3",
   "metadata": {},
   "outputs": [
    {
     "data": {
      "text/html": [
       "<div>\n",
       "<style scoped>\n",
       "    .dataframe tbody tr th:only-of-type {\n",
       "        vertical-align: middle;\n",
       "    }\n",
       "\n",
       "    .dataframe tbody tr th {\n",
       "        vertical-align: top;\n",
       "    }\n",
       "\n",
       "    .dataframe thead th {\n",
       "        text-align: right;\n",
       "    }\n",
       "</style>\n",
       "<table border=\"1\" class=\"dataframe\">\n",
       "  <thead>\n",
       "    <tr style=\"text-align: right;\">\n",
       "      <th></th>\n",
       "      <th>Category</th>\n",
       "      <th>Total_sale</th>\n",
       "      <th>Total_orders</th>\n",
       "    </tr>\n",
       "  </thead>\n",
       "  <tbody>\n",
       "    <tr>\n",
       "      <th>0</th>\n",
       "      <td>Blazzer</td>\n",
       "      <td>11215104.12</td>\n",
       "      <td>15500</td>\n",
       "    </tr>\n",
       "    <tr>\n",
       "      <th>1</th>\n",
       "      <td>Perfume</td>\n",
       "      <td>789419.66</td>\n",
       "      <td>1157</td>\n",
       "    </tr>\n",
       "    <tr>\n",
       "      <th>2</th>\n",
       "      <td>Shirt</td>\n",
       "      <td>21297770.08</td>\n",
       "      <td>49877</td>\n",
       "    </tr>\n",
       "    <tr>\n",
       "      <th>3</th>\n",
       "      <td>Shoes</td>\n",
       "      <td>124752.76</td>\n",
       "      <td>165</td>\n",
       "    </tr>\n",
       "    <tr>\n",
       "      <th>4</th>\n",
       "      <td>Socks</td>\n",
       "      <td>150757.50</td>\n",
       "      <td>440</td>\n",
       "    </tr>\n",
       "    <tr>\n",
       "      <th>5</th>\n",
       "      <td>T-shirt</td>\n",
       "      <td>39206756.65</td>\n",
       "      <td>50292</td>\n",
       "    </tr>\n",
       "    <tr>\n",
       "      <th>6</th>\n",
       "      <td>Trousers</td>\n",
       "      <td>5346286.30</td>\n",
       "      <td>10616</td>\n",
       "    </tr>\n",
       "    <tr>\n",
       "      <th>7</th>\n",
       "      <td>Wallet</td>\n",
       "      <td>458408.18</td>\n",
       "      <td>926</td>\n",
       "    </tr>\n",
       "    <tr>\n",
       "      <th>8</th>\n",
       "      <td>Watch</td>\n",
       "      <td>915.00</td>\n",
       "      <td>3</td>\n",
       "    </tr>\n",
       "  </tbody>\n",
       "</table>\n",
       "</div>"
      ],
      "text/plain": [
       "   Category   Total_sale  Total_orders\n",
       "0   Blazzer  11215104.12         15500\n",
       "1   Perfume    789419.66          1157\n",
       "2     Shirt  21297770.08         49877\n",
       "3     Shoes    124752.76           165\n",
       "4     Socks    150757.50           440\n",
       "5   T-shirt  39206756.65         50292\n",
       "6  Trousers   5346286.30         10616\n",
       "7    Wallet    458408.18           926\n",
       "8     Watch       915.00             3"
      ]
     },
     "execution_count": 28,
     "metadata": {},
     "output_type": "execute_result"
    }
   ],
   "source": [
    "Category_sale"
   ]
  },
  {
   "cell_type": "code",
   "execution_count": 29,
   "id": "21057d2d-a391-42e4-9c08-7391e674b9dc",
   "metadata": {},
   "outputs": [],
   "source": [
    "max_sales = Category_sale.loc[Category_sale['Total_sale'].idxmax()]"
   ]
  },
  {
   "cell_type": "code",
   "execution_count": 30,
   "id": "fee86a68-f63e-48ce-87a2-b07d2d3fe221",
   "metadata": {},
   "outputs": [
    {
     "name": "stdout",
     "output_type": "stream",
     "text": [
      "Which Category has Hight sales : \n",
      "Category            T-shirt\n",
      "Total_sale      39206756.65\n",
      "Total_orders          50292\n",
      "Name: 5, dtype: object\n",
      "-------------------------------------------\n",
      "Which Category has lowest sales : \n",
      "Category        Watch\n",
      "Total_sale      915.0\n",
      "Total_orders        3\n",
      "Name: 8, dtype: object\n",
      "-------------------------------------------\n"
     ]
    }
   ],
   "source": [
    "# As we find the Category sales and orders we can easly apply different - different function like sum , max , min , mean , etc .\n",
    "max_sales_Category = Category_sale.loc[Category_sale['Total_sale'].idxmax()]\n",
    "print('Which Category has Hight sales : ')\n",
    "print(max_sales_Category)\n",
    "print(\"-------------------------------------------\")\n",
    "min_sales_Category = Category_sale.loc[Category_sale['Total_sale'].idxmin()]\n",
    "print('Which Category has lowest sales : ')\n",
    "print(min_sales_Category)\n",
    "print(\"-------------------------------------------\")\n"
   ]
  },
  {
   "cell_type": "code",
   "execution_count": 31,
   "id": "570b6484-6f7a-4a6b-8d02-166c109880f0",
   "metadata": {},
   "outputs": [
    {
     "data": {
      "image/png": "[encoded data removed]",
      "text/plain": [
       "<Figure size 800x400 with 1 Axes>"
      ]
     },
     "metadata": {},
     "output_type": "display_data"
    }
   ],
   "source": [
    "# Visulation \n",
    "plt.figure(figsize=(8,4))\n",
    "sns.barplot(data=Category_sale,x='Category',y='Total_sale')\n",
    "plt.title(\"Sales by Category\")\n",
    "plt.xlabel(\"Category\")\n",
    "plt.ylabel('Total sales')\n",
    "plt.show()"
   ]
  },
  {
   "cell_type": "markdown",
   "id": "a3d66b7c-a72a-4b03-8d5a-afb1e441f2b7",
   "metadata": {},
   "source": [
    "# 2. Product Analysis: Analyze the distribution of product categories, sizes, and quantities sold to identify popular products. \n"
   ]
  },
  {
   "cell_type": "markdown",
   "id": "6b25ba2f-cbdf-458f-b079-1994c0960293",
   "metadata": {},
   "source": [
    "### Product Categories "
   ]
  },
  {
   "cell_type": "code",
   "execution_count": 41,
   "id": "939ea9b4-2eb5-495a-9b38-e532ad0fd2bd",
   "metadata": {},
   "outputs": [
    {
     "name": "stdout",
     "output_type": "stream",
     "text": [
      "----- Types of Product Categories into the Amazon dataset -----  \n",
      "['T-shirt', 'Shirt', 'Blazzer', 'Trousers', 'Perfume', 'Socks', 'Shoes', 'Wallet', 'Watch']\n"
     ]
    }
   ],
   "source": [
    "# Types of Product Categories\n",
    "List_of_Product_Category  = df['Category'].unique().tolist()\n",
    "print(\"----- Types of Product Categories into the Amazon dataset -----  \")\n",
    "print(List_of_Product_Category)"
   ]
  },
  {
   "cell_type": "code",
   "execution_count": 39,
   "id": "ac847ac0-ee82-4a62-b866-798b2c8737bc",
   "metadata": {},
   "outputs": [
    {
     "data": {
      "text/plain": [
       "Category\n",
       "T-shirt     50292\n",
       "Shirt       49877\n",
       "Blazzer     15500\n",
       "Trousers    10616\n",
       "Perfume      1157\n",
       "Wallet        926\n",
       "Socks         440\n",
       "Shoes         165\n",
       "Watch           3\n",
       "Name: count, dtype: int64"
      ]
     },
     "execution_count": 39,
     "metadata": {},
     "output_type": "execute_result"
    }
   ],
   "source": [
    "# Product categories ka count nikalte hain\n",
    "Product_categories_count = df[\"Category\"].value_counts()\n",
    "Product_categories_count"
   ]
  },
  {
   "cell_type": "markdown",
   "id": "46e72362-762f-418d-a1a7-f2eb9d6ed140",
   "metadata": {},
   "source": [
    "# Sizes Analysis"
   ]
  },
  {
   "cell_type": "code",
   "execution_count": 44,
   "id": "d8c5504f-1883-4f8e-b86b-2589780d15c2",
   "metadata": {},
   "outputs": [
    {
     "data": {
      "text/plain": [
       "Size\n",
       "M       22373\n",
       "L       21807\n",
       "XL      20549\n",
       "XXL     17806\n",
       "S       16776\n",
       "3XL     14643\n",
       "XS      11056\n",
       "Free     2251\n",
       "6XL       738\n",
       "5XL       550\n",
       "4XL       427\n",
       "Name: count, dtype: int64"
      ]
     },
     "execution_count": 44,
     "metadata": {},
     "output_type": "execute_result"
    }
   ],
   "source": [
    "# size \n",
    "size_count = df['Size'].value_counts()\n",
    "size_count"
   ]
  },
  {
   "cell_type": "code",
   "execution_count": 54,
   "id": "718cf2cf-cfed-4d82-afcb-af775c118a18",
   "metadata": {},
   "outputs": [
    {
     "data": {
      "image/png": "[encoded data removed]",
      "text/plain": [
       "<Figure size 600x400 with 1 Axes>"
      ]
     },
     "metadata": {},
     "output_type": "display_data"
    }
   ],
   "source": [
    "# Visualition\n",
    "plt.figure(figsize=(6,4))\n",
    "size_count.plot(kind = 'bar')\n",
    "plt.title(\"Size Distribution \")\n",
    "plt.show()"
   ]
  },
  {
   "cell_type": "markdown",
   "id": "d5067bfc-5dd3-4d84-bd54-f7ede5bf8fe8",
   "metadata": {},
   "source": [
    "# Quantity Sold  Analysis"
   ]
  },
  {
   "cell_type": "code",
   "execution_count": 63,
   "id": "c85a0d8c-70cf-46f7-897d-478d0d3e3f6e",
   "metadata": {},
   "outputs": [
    {
     "data": {
      "text/plain": [
       "Category\n",
       "Blazzer     13943\n",
       "Perfume      1051\n",
       "Shirt       45044\n",
       "Shoes         153\n",
       "Socks         399\n",
       "T-shirt     45292\n",
       "Trousers     9898\n",
       "Wallet        863\n",
       "Watch           3\n",
       "Name: Qty, dtype: int64"
      ]
     },
     "execution_count": 63,
     "metadata": {},
     "output_type": "execute_result"
    }
   ],
   "source": [
    "\n",
    "# Product category ke hisaab se quantity ka total nikalna\n",
    "\n",
    "quantity_by_category = df.groupby('Category')['Qty'].sum()\n",
    "quantity_by_category"
   ]
  },
  {
   "cell_type": "code",
   "execution_count": 65,
   "id": "80814cb3-528c-454d-a7b6-7cafeeb80804",
   "metadata": {},
   "outputs": [
    {
     "data": {
      "text/plain": [
       "Size\n",
       "3XL     13360\n",
       "4XL       398\n",
       "5XL       513\n",
       "6XL       688\n",
       "Free     2070\n",
       "L       19706\n",
       "M       20138\n",
       "S       15041\n",
       "XL      18636\n",
       "XS       9850\n",
       "XXL     16246\n",
       "Name: Qty, dtype: int64"
      ]
     },
     "execution_count": 65,
     "metadata": {},
     "output_type": "execute_result"
    }
   ],
   "source": [
    "# Product Size ke hisaab se quantity ka total nikalna\n",
    "quantity_by_size = df.groupby('Size')['Qty'].sum()\n",
    "quantity_by_size"
   ]
  },
  {
   "cell_type": "code",
   "execution_count": 71,
   "id": "540f4e36-a72d-4ac6-9858-52a2fd70aa2a",
   "metadata": {},
   "outputs": [
    {
     "data": {
      "image/png": "[encoded data removed]",
      "text/plain": [
       "<Figure size 600x400 with 1 Axes>"
      ]
     },
     "metadata": {},
     "output_type": "display_data"
    }
   ],
   "source": [
    "# Visualition\n",
    "plt.figure(figsize=(6,4))\n",
    "quantity_by_size.plot(kind = 'bar')\n",
    "plt.title(\"Size Distribution by Quantity \")\n",
    "plt.show()"
   ]
  },
  {
   "cell_type": "code",
   "execution_count": 70,
   "id": "e1d39d54-8a82-42b2-b70a-81aee3974492",
   "metadata": {},
   "outputs": [
    {
     "data": {
      "image/png": "[encoded data removed]",
      "text/plain": [
       "<Figure size 600x400 with 1 Axes>"
      ]
     },
     "metadata": {},
     "output_type": "display_data"
    }
   ],
   "source": [
    "# Visualition\n",
    "plt.figure(figsize=(6,4))\n",
    "quantity_by_category.plot(kind = 'bar')\n",
    "plt.title(\"Quantity Distribution \")\n",
    "plt.show()"
   ]
  },
  {
   "cell_type": "markdown",
   "id": "8f1c3d4a-7c51-4dbc-93d7-6cc7d9c73347",
   "metadata": {},
   "source": [
    "# 3. Fulfillment Analysis: Investigate the fulfillment methods used and their effectiveness in delivering orders"
   ]
  },
  {
   "cell_type": "code",
   "execution_count": 76,
   "id": "9da2f8c9-5e5e-4e7d-a717-79fc214afdda",
   "metadata": {},
   "outputs": [
    {
     "data": {
      "text/plain": [
       "Fulfilment\n",
       "Amazon      89713\n",
       "Merchant    39263\n",
       "Name: count, dtype: int64"
      ]
     },
     "execution_count": 76,
     "metadata": {},
     "output_type": "execute_result"
    }
   ],
   "source": [
    "# Check the distribution of Fulfillment Methods\n",
    "Fulfilment_count = df['Fulfilment'].value_counts()\n",
    "Fulfilment_count"
   ]
  },
  {
   "cell_type": "code",
   "execution_count": 78,
   "id": "d3089b6b-4a0d-4c77-a3a8-7b79f01ce3e7",
   "metadata": {},
   "outputs": [
    {
     "data": {
      "text/html": [
       "<div>\n",
       "<style scoped>\n",
       "    .dataframe tbody tr th:only-of-type {\n",
       "        vertical-align: middle;\n",
       "    }\n",
       "\n",
       "    .dataframe tbody tr th {\n",
       "        vertical-align: top;\n",
       "    }\n",
       "\n",
       "    .dataframe thead th {\n",
       "        text-align: right;\n",
       "    }\n",
       "</style>\n",
       "<table border=\"1\" class=\"dataframe\">\n",
       "  <thead>\n",
       "    <tr style=\"text-align: right;\">\n",
       "      <th>Status</th>\n",
       "      <th>Cancelled</th>\n",
       "      <th>Pending</th>\n",
       "      <th>Pending - Waiting for Pick Up</th>\n",
       "      <th>Shipped</th>\n",
       "      <th>Shipped - Damaged</th>\n",
       "      <th>Shipped - Delivered to Buyer</th>\n",
       "      <th>Shipped - Lost in Transit</th>\n",
       "      <th>Shipped - Out for Delivery</th>\n",
       "      <th>Shipped - Picked Up</th>\n",
       "      <th>Shipped - Rejected by Buyer</th>\n",
       "      <th>Shipped - Returned to Seller</th>\n",
       "      <th>Shipped - Returning to Seller</th>\n",
       "      <th>Shipping</th>\n",
       "    </tr>\n",
       "    <tr>\n",
       "      <th>Fulfilment</th>\n",
       "      <th></th>\n",
       "      <th></th>\n",
       "      <th></th>\n",
       "      <th></th>\n",
       "      <th></th>\n",
       "      <th></th>\n",
       "      <th></th>\n",
       "      <th></th>\n",
       "      <th></th>\n",
       "      <th></th>\n",
       "      <th></th>\n",
       "      <th></th>\n",
       "      <th></th>\n",
       "    </tr>\n",
       "  </thead>\n",
       "  <tbody>\n",
       "    <tr>\n",
       "      <th>Amazon</th>\n",
       "      <td>11475</td>\n",
       "      <td>415</td>\n",
       "      <td>0</td>\n",
       "      <td>77815</td>\n",
       "      <td>0</td>\n",
       "      <td>0</td>\n",
       "      <td>0</td>\n",
       "      <td>0</td>\n",
       "      <td>0</td>\n",
       "      <td>0</td>\n",
       "      <td>0</td>\n",
       "      <td>0</td>\n",
       "      <td>8</td>\n",
       "    </tr>\n",
       "    <tr>\n",
       "      <th>Merchant</th>\n",
       "      <td>6859</td>\n",
       "      <td>243</td>\n",
       "      <td>281</td>\n",
       "      <td>0</td>\n",
       "      <td>1</td>\n",
       "      <td>28756</td>\n",
       "      <td>5</td>\n",
       "      <td>35</td>\n",
       "      <td>973</td>\n",
       "      <td>11</td>\n",
       "      <td>1954</td>\n",
       "      <td>145</td>\n",
       "      <td>0</td>\n",
       "    </tr>\n",
       "  </tbody>\n",
       "</table>\n",
       "</div>"
      ],
      "text/plain": [
       "Status      Cancelled  Pending  Pending - Waiting for Pick Up  Shipped  \\\n",
       "Fulfilment                                                               \n",
       "Amazon          11475      415                              0    77815   \n",
       "Merchant         6859      243                            281        0   \n",
       "\n",
       "Status      Shipped - Damaged  Shipped - Delivered to Buyer  \\\n",
       "Fulfilment                                                    \n",
       "Amazon                      0                             0   \n",
       "Merchant                    1                         28756   \n",
       "\n",
       "Status      Shipped - Lost in Transit  Shipped - Out for Delivery  \\\n",
       "Fulfilment                                                          \n",
       "Amazon                              0                           0   \n",
       "Merchant                            5                          35   \n",
       "\n",
       "Status      Shipped - Picked Up  Shipped - Rejected by Buyer  \\\n",
       "Fulfilment                                                     \n",
       "Amazon                        0                            0   \n",
       "Merchant                    973                           11   \n",
       "\n",
       "Status      Shipped - Returned to Seller  Shipped - Returning to Seller  \\\n",
       "Fulfilment                                                                \n",
       "Amazon                                 0                              0   \n",
       "Merchant                            1954                            145   \n",
       "\n",
       "Status      Shipping  \n",
       "Fulfilment            \n",
       "Amazon             8  \n",
       "Merchant           0  "
      ]
     },
     "execution_count": 78,
     "metadata": {},
     "output_type": "execute_result"
    }
   ],
   "source": [
    "# Grouping by Fulfillment Method and Status to get the count of each\n",
    "Fulfilment_status = df.groupby(['Fulfilment','Status']).size().unstack(fill_value=0)\n",
    "Fulfilment_status"
   ]
  },
  {
   "cell_type": "code",
   "execution_count": 80,
   "id": "8518900a-89fd-46bd-84e3-cf6862202d49",
   "metadata": {},
   "outputs": [
    {
     "data": {
      "text/plain": [
       "['Cancelled',\n",
       " 'Shipped - Delivered to Buyer',\n",
       " 'Shipped',\n",
       " 'Shipped - Returned to Seller',\n",
       " 'Shipped - Rejected by Buyer',\n",
       " 'Shipped - Lost in Transit',\n",
       " 'Shipped - Out for Delivery',\n",
       " 'Shipped - Returning to Seller',\n",
       " 'Shipped - Picked Up',\n",
       " 'Pending',\n",
       " 'Pending - Waiting for Pick Up',\n",
       " 'Shipped - Damaged',\n",
       " 'Shipping']"
      ]
     },
     "execution_count": 80,
     "metadata": {},
     "output_type": "execute_result"
    }
   ],
   "source": [
    "Status_list=df['Status'].unique().tolist()\n",
    "Status_list"
   ]
  },
  {
   "cell_type": "code",
   "execution_count": 82,
   "id": "35b18d12-e0e8-4d46-8364-030bd4d13c64",
   "metadata": {},
   "outputs": [
    {
     "data": {
      "image/png": "[encoded data removed]",
      "text/plain": [
       "<Figure size 640x480 with 1 Axes>"
      ]
     },
     "metadata": {},
     "output_type": "display_data"
    }
   ],
   "source": [
    "# Visualition\n",
    "Fulfilment_status[['Shipped', 'Cancelled', 'Pending']].plot(kind='bar', stacked=True)\n",
    "plt.title('Fulfillment Methods - Order Status')\n",
    "plt.ylabel('Number of Orders')\n",
    "plt.show()"
   ]
  },
  {
   "cell_type": "code",
   "execution_count": null,
   "id": "b656ffbb-766c-47b7-a9ff-6cb4ea5ec5bd",
   "metadata": {},
   "outputs": [],
   "source": []
  }
 ],
 "metadata": {
  "kernelspec": {
   "display_name": "Python 3 (ipykernel)",
   "language": "python",
   "name": "python3"
  },
  "language_info": {
   "codemirror_mode": {
    "name": "ipython",
    "version": 3
   },
   "file_extension": ".py",
   "mimetype": "text/x-python",
   "name": "python",
   "nbconvert_exporter": "python",
   "pygments_lexer": "ipython3",
   "version": "3.11.7"
  }
 },
 "nbformat": 4,
 "nbformat_minor": 5
}
